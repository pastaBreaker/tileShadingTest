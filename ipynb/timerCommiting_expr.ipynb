{
 "cells": [
  {
   "cell_type": "code",
   "execution_count": 31,
   "metadata": {
    "collapsed": false
   },
   "outputs": [
    {
     "data": {
      "text/plain": [
       "datetime.datetime(2016, 11, 8, 13, 8, 43, 849752)"
      ]
     },
     "execution_count": 31,
     "metadata": {},
     "output_type": "execute_result"
    }
   ],
   "source": [
    "import datetime\n",
    "import StringIO\n",
    "nowDT = datetime.datetime.now()\n",
    "nowDT"
   ]
  },
  {
   "cell_type": "code",
   "execution_count": 49,
   "metadata": {
    "collapsed": false
   },
   "outputs": [
    {
     "data": {
      "text/plain": [
       "'2016110813\\n'"
      ]
     },
     "execution_count": 49,
     "metadata": {},
     "output_type": "execute_result"
    }
   ],
   "source": [
    "nowString = nowDT.strftime(\"%Y %m %d %H\").replace(\" \",\"\") + \"\\n\"\n",
    "nowString"
   ]
  },
  {
   "cell_type": "code",
   "execution_count": 33,
   "metadata": {
    "collapsed": true
   },
   "outputs": [],
   "source": [
    "import os"
   ]
  },
  {
   "cell_type": "code",
   "execution_count": 55,
   "metadata": {
    "collapsed": false
   },
   "outputs": [
    {
     "data": {
      "text/plain": [
       "False"
      ]
     },
     "execution_count": 55,
     "metadata": {},
     "output_type": "execute_result"
    }
   ],
   "source": [
    "# logic check, if this is the 1st operation of the day\n",
    "firstInDay = False\n",
    "firstInDay"
   ]
  },
  {
   "cell_type": "code",
   "execution_count": 65,
   "metadata": {
    "collapsed": false
   },
   "outputs": [
    {
     "data": {
      "text/plain": [
       "'git commit -m \"updated 1 on 2016 11 08\"'"
      ]
     },
     "execution_count": 65,
     "metadata": {},
     "output_type": "execute_result"
    }
   ],
   "source": [
    "iterCounter = 1\n",
    "if firstInDay :\n",
    "    # make new file\n",
    "    fileName = nowString.strip() + \".txt\"\n",
    "    with open(fileName, \"w\") as stampFile:\n",
    "        stampFile.write(nowString)\n",
    "    print(nowString)\n",
    "else:\n",
    "    # append to file\n",
    "    with open(fileName, \"a\") as stampFile:\n",
    "        stampFile.write(nowString)\n",
    "\n",
    "# commit   \n",
    "addCommand = \"git add stamps/fileName\"\n",
    "commitCommand = \"git commit -m \\\"updated \" + str(iterCounter) + \" on \" + nowDT.strftime(\"%Y %m %d\") + \"\\\"\"\n",
    "commitCommand"
   ]
  },
  {
   "cell_type": "code",
   "execution_count": null,
   "metadata": {
    "collapsed": true
   },
   "outputs": [],
   "source": [
    "# add and commit after updating\n",
    "os.system(addCommand)\n",
    "os.system(commitCommand)"
   ]
  },
  {
   "cell_type": "code",
   "execution_count": null,
   "metadata": {
    "collapsed": true
   },
   "outputs": [],
   "source": [
    "# end of loop of the day: push\n",
    "pushCommand = \"git push\"\n",
    "os.system(pushCommand)"
   ]
  },
  {
   "cell_type": "code",
   "execution_count": 66,
   "metadata": {
    "collapsed": false
   },
   "outputs": [
    {
     "name": "stdout",
     "output_type": "stream",
     "text": [
      "Tue Nov  8 13:29:05 2016\n",
      "Tue Nov  8 13:29:15 2016\n",
      "Tue Nov  8 13:29:25 2016\n"
     ]
    }
   ],
   "source": [
    "# http://stackoverflow.com/questions/8600161/executing-periodic-actions-in-python\n",
    "import time, threading\n",
    "def foo():\n",
    "    print(time.ctime())\n",
    "    threading.Timer(10, foo).start()\n",
    "\n",
    "foo()"
   ]
  },
  {
   "cell_type": "code",
   "execution_count": 67,
   "metadata": {
    "collapsed": false
   },
   "outputs": [
    {
     "data": {
      "text/plain": [
       "'a\\na\\na\\na\\na\\na\\na\\na\\na\\na\\n'"
      ]
     },
     "execution_count": 67,
     "metadata": {},
     "output_type": "execute_result"
    },
    {
     "name": "stdout",
     "output_type": "stream",
     "text": [
      "Tue Nov  8 13:42:35 2016\n",
      "Tue Nov  8 13:42:45 2016\n",
      "Tue Nov  8 13:42:55 2016\n",
      "Tue Nov  8 13:43:05 2016\n",
      "Tue Nov  8 13:43:15 2016\n",
      "Tue Nov  8 13:43:25 2016\n"
     ]
    }
   ],
   "source": [
    "\"a\\n\" *10"
   ]
  }
 ],
 "metadata": {
  "kernelspec": {
   "display_name": "Python [Root]",
   "language": "python",
   "name": "Python [Root]"
  },
  "language_info": {
   "codemirror_mode": {
    "name": "ipython",
    "version": 2
   },
   "file_extension": ".py",
   "mimetype": "text/x-python",
   "name": "python",
   "nbconvert_exporter": "python",
   "pygments_lexer": "ipython2",
   "version": "2.7.12"
  }
 },
 "nbformat": 4,
 "nbformat_minor": 0
}
